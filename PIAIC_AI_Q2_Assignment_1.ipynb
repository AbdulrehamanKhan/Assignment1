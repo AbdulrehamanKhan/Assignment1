{
  "nbformat": 4,
  "nbformat_minor": 0,
  "metadata": {
    "kernelspec": {
      "name": "python3",
      "display_name": "Python 3",
      "language": "python"
    },
    "language_info": {
      "name": "python",
      "version": "3.6.10",
      "mimetype": "text/x-python",
      "codemirror_mode": {
        "name": "ipython",
        "version": 3
      },
      "pygments_lexer": "ipython3",
      "nbconvert_exporter": "python",
      "file_extension": ".py"
    },
    "colab": {
      "name": "PIAIC_AI_Q2_Assignment_1.ipynb",
      "provenance": []
    }
  },
  "cells": [
    {
      "cell_type": "markdown",
      "metadata": {
        "id": "-N65FDcE9Eq1"
      },
      "source": [
        "#Name : Abdulrehman Khan\n",
        "#Roll No: PIAIC92274\n",
        "#Batch: 07\n"
      ]
    },
    {
      "cell_type": "code",
      "metadata": {
        "trusted": true,
        "id": "iPv3Nclj9Eq6",
        "outputId": "0f6e5faf-9f16-45ff-ec02-15353cc8a033"
      },
      "source": [
        "import numpy as af\n",
        "af.array([1,2,3,4,5])"
      ],
      "execution_count": null,
      "outputs": [
        {
          "output_type": "execute_result",
          "data": {
            "text/plain": [
              "array([1, 2, 3, 4, 5])"
            ]
          },
          "metadata": {
            "tags": []
          },
          "execution_count": 1
        }
      ]
    },
    {
      "cell_type": "code",
      "metadata": {
        "trusted": true,
        "id": "o2hkImLG9Eq8",
        "outputId": "4f80544f-7057-405e-e8a9-997c2d6d3e79"
      },
      "source": [
        "af.add(4,8)"
      ],
      "execution_count": null,
      "outputs": [
        {
          "output_type": "execute_result",
          "data": {
            "text/plain": [
              "12"
            ]
          },
          "metadata": {
            "tags": []
          },
          "execution_count": 2
        }
      ]
    },
    {
      "cell_type": "code",
      "metadata": {
        "trusted": true,
        "id": "ua77YnhH9Eq9",
        "outputId": "d20325e7-0278-42d0-ca41-69a0fe6f53f8"
      },
      "source": [
        "af.subtract(45,30)"
      ],
      "execution_count": null,
      "outputs": [
        {
          "output_type": "execute_result",
          "data": {
            "text/plain": [
              "15"
            ]
          },
          "metadata": {
            "tags": []
          },
          "execution_count": 3
        }
      ]
    },
    {
      "cell_type": "code",
      "metadata": {
        "trusted": true,
        "id": "fUwQMg849Eq-",
        "outputId": "2e374b6a-90dd-4c4b-c153-c571089ffcc6"
      },
      "source": [
        "af.multiply(5,12)"
      ],
      "execution_count": null,
      "outputs": [
        {
          "output_type": "execute_result",
          "data": {
            "text/plain": [
              "60"
            ]
          },
          "metadata": {
            "tags": []
          },
          "execution_count": 4
        }
      ]
    },
    {
      "cell_type": "code",
      "metadata": {
        "trusted": true,
        "id": "v9XeleP39ErA",
        "outputId": "c5b01eb5-b051-442a-a33b-f1217cda2309"
      },
      "source": [
        "af.ones((5,7),dtype=float)"
      ],
      "execution_count": null,
      "outputs": [
        {
          "output_type": "execute_result",
          "data": {
            "text/plain": [
              "array([[1., 1., 1., 1., 1., 1., 1.],\n",
              "       [1., 1., 1., 1., 1., 1., 1.],\n",
              "       [1., 1., 1., 1., 1., 1., 1.],\n",
              "       [1., 1., 1., 1., 1., 1., 1.],\n",
              "       [1., 1., 1., 1., 1., 1., 1.]])"
            ]
          },
          "metadata": {
            "tags": []
          },
          "execution_count": 5
        }
      ]
    },
    {
      "cell_type": "code",
      "metadata": {
        "trusted": true,
        "id": "1uuJW7xB9ErC",
        "outputId": "6a2ab772-6101-4363-e29d-5a4e49dafc5d"
      },
      "source": [
        "af.zeros(5)"
      ],
      "execution_count": null,
      "outputs": [
        {
          "output_type": "execute_result",
          "data": {
            "text/plain": [
              "array([0., 0., 0., 0., 0.])"
            ]
          },
          "metadata": {
            "tags": []
          },
          "execution_count": 6
        }
      ]
    },
    {
      "cell_type": "code",
      "metadata": {
        "trusted": true,
        "id": "rOzN3pyj9ErD",
        "outputId": "e7e71dcf-05f3-4475-81f8-5812b1172824"
      },
      "source": [
        "af.arange(3,5,15)"
      ],
      "execution_count": null,
      "outputs": [
        {
          "output_type": "execute_result",
          "data": {
            "text/plain": [
              "array([3])"
            ]
          },
          "metadata": {
            "tags": []
          },
          "execution_count": 7
        }
      ]
    },
    {
      "cell_type": "code",
      "metadata": {
        "trusted": true,
        "id": "yd9ZQatV9ErE",
        "outputId": "19e01c81-1a3f-4a37-9bbb-a97f999bc015"
      },
      "source": [
        "af.full((6,4),88)"
      ],
      "execution_count": null,
      "outputs": [
        {
          "output_type": "execute_result",
          "data": {
            "text/plain": [
              "array([[88, 88, 88, 88],\n",
              "       [88, 88, 88, 88],\n",
              "       [88, 88, 88, 88],\n",
              "       [88, 88, 88, 88],\n",
              "       [88, 88, 88, 88],\n",
              "       [88, 88, 88, 88]])"
            ]
          },
          "metadata": {
            "tags": []
          },
          "execution_count": 8
        }
      ]
    },
    {
      "cell_type": "code",
      "metadata": {
        "trusted": true,
        "id": "xN2BNfdj9ErF",
        "outputId": "2748b0ec-258d-4352-df41-1f5a306e7bd9"
      },
      "source": [
        "af.linspace(0,5,3)"
      ],
      "execution_count": null,
      "outputs": [
        {
          "output_type": "execute_result",
          "data": {
            "text/plain": [
              "array([0. , 2.5, 5. ])"
            ]
          },
          "metadata": {
            "tags": []
          },
          "execution_count": 9
        }
      ]
    },
    {
      "cell_type": "code",
      "metadata": {
        "trusted": true,
        "id": "bO5RasNl9ErG",
        "outputId": "3f90581c-7f4e-4a10-e398-4f7538197167"
      },
      "source": [
        "af.random.random((2,8))\n"
      ],
      "execution_count": null,
      "outputs": [
        {
          "output_type": "execute_result",
          "data": {
            "text/plain": [
              "array([[0.28364184, 0.37043732, 0.43506048, 0.94140074, 0.53009276,\n",
              "        0.6009485 , 0.20214234, 0.09596796],\n",
              "       [0.70041076, 0.87863733, 0.88730876, 0.76999999, 0.42741678,\n",
              "        0.22914217, 0.74274042, 0.69958682]])"
            ]
          },
          "metadata": {
            "tags": []
          },
          "execution_count": 10
        }
      ]
    },
    {
      "cell_type": "code",
      "metadata": {
        "trusted": true,
        "id": "OaCCamoJ9ErG",
        "outputId": "fcd9d92b-4aca-4ab4-d47c-6e21879eb40d"
      },
      "source": [
        "af.eye(6)"
      ],
      "execution_count": null,
      "outputs": [
        {
          "output_type": "execute_result",
          "data": {
            "text/plain": [
              "array([[1., 0., 0., 0., 0., 0.],\n",
              "       [0., 1., 0., 0., 0., 0.],\n",
              "       [0., 0., 1., 0., 0., 0.],\n",
              "       [0., 0., 0., 1., 0., 0.],\n",
              "       [0., 0., 0., 0., 1., 0.],\n",
              "       [0., 0., 0., 0., 0., 1.]])"
            ]
          },
          "metadata": {
            "tags": []
          },
          "execution_count": 11
        }
      ]
    },
    {
      "cell_type": "code",
      "metadata": {
        "trusted": true,
        "id": "pGatq_Sn9ErH",
        "outputId": "397052e7-d079-4a5d-9571-91095466e71b"
      },
      "source": [
        "af.empty(5)"
      ],
      "execution_count": null,
      "outputs": [
        {
          "output_type": "execute_result",
          "data": {
            "text/plain": [
              "array([0., 0., 0., 0., 0.])"
            ]
          },
          "metadata": {
            "tags": []
          },
          "execution_count": 12
        }
      ]
    },
    {
      "cell_type": "code",
      "metadata": {
        "trusted": true,
        "id": "QaxMt-sI9ErI",
        "outputId": "2382d298-e4d4-460b-80fc-1cc1aee71992"
      },
      "source": [
        "xyz=af.random.randint(0,10,(2,2))\n",
        "xyz"
      ],
      "execution_count": null,
      "outputs": [
        {
          "output_type": "execute_result",
          "data": {
            "text/plain": [
              "array([[2, 8],\n",
              "       [4, 2]])"
            ]
          },
          "metadata": {
            "tags": []
          },
          "execution_count": 17
        }
      ]
    },
    {
      "cell_type": "code",
      "metadata": {
        "trusted": true,
        "id": "rmXMgA1Z9ErJ"
      },
      "source": [
        "abc=af.eye(8)"
      ],
      "execution_count": null,
      "outputs": []
    },
    {
      "cell_type": "code",
      "metadata": {
        "trusted": true,
        "id": "n87Hhqns9ErJ",
        "outputId": "a884b5ed-804e-4a07-b658-25254cd98cd4"
      },
      "source": [
        "af.shape(abc)"
      ],
      "execution_count": null,
      "outputs": [
        {
          "output_type": "execute_result",
          "data": {
            "text/plain": [
              "(8, 8)"
            ]
          },
          "metadata": {
            "tags": []
          },
          "execution_count": 19
        }
      ]
    },
    {
      "cell_type": "code",
      "metadata": {
        "trusted": true,
        "id": "HbO_ael99ErK",
        "outputId": "a16a4711-4ac9-410c-c6be-a9434d0f1c83"
      },
      "source": [
        "af.size(abc)"
      ],
      "execution_count": null,
      "outputs": [
        {
          "output_type": "execute_result",
          "data": {
            "text/plain": [
              "64"
            ]
          },
          "metadata": {
            "tags": []
          },
          "execution_count": 20
        }
      ]
    },
    {
      "cell_type": "code",
      "metadata": {
        "trusted": true,
        "id": "2iC_mbR09ErK",
        "outputId": "fe669741-80e3-44cb-d5c4-295e7054d9a1"
      },
      "source": [
        "abc.dtype"
      ],
      "execution_count": null,
      "outputs": [
        {
          "output_type": "execute_result",
          "data": {
            "text/plain": [
              "dtype('float64')"
            ]
          },
          "metadata": {
            "tags": []
          },
          "execution_count": 21
        }
      ]
    },
    {
      "cell_type": "code",
      "metadata": {
        "trusted": true,
        "id": "Moq0AlDM9ErL",
        "outputId": "f3c4365e-9cf8-4eda-f793-b35dc4ca6d94"
      },
      "source": [
        "abc.data"
      ],
      "execution_count": null,
      "outputs": [
        {
          "output_type": "execute_result",
          "data": {
            "text/plain": [
              "<memory at 0x7fa5944ff120>"
            ]
          },
          "metadata": {
            "tags": []
          },
          "execution_count": 24
        }
      ]
    },
    {
      "cell_type": "code",
      "metadata": {
        "trusted": true,
        "id": "eJ6D5eHc9ErM",
        "outputId": "c20148d3-1f7c-4a6e-acd0-3375a7935920"
      },
      "source": [
        "abc.ndim"
      ],
      "execution_count": null,
      "outputs": [
        {
          "output_type": "execute_result",
          "data": {
            "text/plain": [
              "2"
            ]
          },
          "metadata": {
            "tags": []
          },
          "execution_count": 25
        }
      ]
    },
    {
      "cell_type": "code",
      "metadata": {
        "trusted": true,
        "id": "-O2QxcBb9ErM",
        "outputId": "95abe261-4201-4154-9e2f-cbb2afc8f8b4"
      },
      "source": [
        "abc.itemsize"
      ],
      "execution_count": null,
      "outputs": [
        {
          "output_type": "execute_result",
          "data": {
            "text/plain": [
              "8"
            ]
          },
          "metadata": {
            "tags": []
          },
          "execution_count": 26
        }
      ]
    },
    {
      "cell_type": "code",
      "metadata": {
        "trusted": true,
        "id": "nh5sBsTO9ErN",
        "outputId": "167abc59-be7c-414c-ba1e-caccebd586e9"
      },
      "source": [
        "abc.mean()"
      ],
      "execution_count": null,
      "outputs": [
        {
          "output_type": "execute_result",
          "data": {
            "text/plain": [
              "0.125"
            ]
          },
          "metadata": {
            "tags": []
          },
          "execution_count": 27
        }
      ]
    },
    {
      "cell_type": "code",
      "metadata": {
        "trusted": true,
        "id": "TeqOvqyw9ErO",
        "outputId": "6ac8f3c6-abca-4821-9c8b-6653c251aebe"
      },
      "source": [
        "abc.sum()"
      ],
      "execution_count": null,
      "outputs": [
        {
          "output_type": "execute_result",
          "data": {
            "text/plain": [
              "8.0"
            ]
          },
          "metadata": {
            "tags": []
          },
          "execution_count": 28
        }
      ]
    },
    {
      "cell_type": "code",
      "metadata": {
        "trusted": true,
        "id": "HIYU8Grs9ErO",
        "outputId": "cb7e43fa-7a94-4558-8a25-f90df5d59ad4"
      },
      "source": [
        "af.exp(abc)"
      ],
      "execution_count": null,
      "outputs": [
        {
          "output_type": "execute_result",
          "data": {
            "text/plain": [
              "array([[2.71828183, 1.        , 1.        , 1.        , 1.        ,\n",
              "        1.        , 1.        , 1.        ],\n",
              "       [1.        , 2.71828183, 1.        , 1.        , 1.        ,\n",
              "        1.        , 1.        , 1.        ],\n",
              "       [1.        , 1.        , 2.71828183, 1.        , 1.        ,\n",
              "        1.        , 1.        , 1.        ],\n",
              "       [1.        , 1.        , 1.        , 2.71828183, 1.        ,\n",
              "        1.        , 1.        , 1.        ],\n",
              "       [1.        , 1.        , 1.        , 1.        , 2.71828183,\n",
              "        1.        , 1.        , 1.        ],\n",
              "       [1.        , 1.        , 1.        , 1.        , 1.        ,\n",
              "        2.71828183, 1.        , 1.        ],\n",
              "       [1.        , 1.        , 1.        , 1.        , 1.        ,\n",
              "        1.        , 2.71828183, 1.        ],\n",
              "       [1.        , 1.        , 1.        , 1.        , 1.        ,\n",
              "        1.        , 1.        , 2.71828183]])"
            ]
          },
          "metadata": {
            "tags": []
          },
          "execution_count": 29
        }
      ]
    },
    {
      "cell_type": "code",
      "metadata": {
        "trusted": true,
        "id": "k3mcgJop9ErP",
        "outputId": "8c0f88ed-fedc-4736-9197-16b8b806c106"
      },
      "source": [
        "af.abs(abc)"
      ],
      "execution_count": null,
      "outputs": [
        {
          "output_type": "execute_result",
          "data": {
            "text/plain": [
              "array([[1., 0., 0., 0., 0., 0., 0., 0.],\n",
              "       [0., 1., 0., 0., 0., 0., 0., 0.],\n",
              "       [0., 0., 1., 0., 0., 0., 0., 0.],\n",
              "       [0., 0., 0., 1., 0., 0., 0., 0.],\n",
              "       [0., 0., 0., 0., 1., 0., 0., 0.],\n",
              "       [0., 0., 0., 0., 0., 1., 0., 0.],\n",
              "       [0., 0., 0., 0., 0., 0., 1., 0.],\n",
              "       [0., 0., 0., 0., 0., 0., 0., 1.]])"
            ]
          },
          "metadata": {
            "tags": []
          },
          "execution_count": 30
        }
      ]
    },
    {
      "cell_type": "code",
      "metadata": {
        "trusted": true,
        "id": "wkLK0IGz9ErQ",
        "outputId": "4997080a-8396-4ac8-96d3-585adf8a6b8c"
      },
      "source": [
        "acd=4\n",
        "acd"
      ],
      "execution_count": null,
      "outputs": [
        {
          "output_type": "execute_result",
          "data": {
            "text/plain": [
              "4"
            ]
          },
          "metadata": {
            "tags": []
          },
          "execution_count": 31
        }
      ]
    },
    {
      "cell_type": "code",
      "metadata": {
        "trusted": true,
        "id": "Tmt3SVrb9ErQ",
        "outputId": "1c47aaa3-1f05-486e-ee15-9027bbd881b9"
      },
      "source": [
        "abc.ravel()"
      ],
      "execution_count": null,
      "outputs": [
        {
          "output_type": "execute_result",
          "data": {
            "text/plain": [
              "array([1., 0., 0., 0., 0., 0., 0., 0., 0., 1., 0., 0., 0., 0., 0., 0., 0.,\n",
              "       0., 1., 0., 0., 0., 0., 0., 0., 0., 0., 1., 0., 0., 0., 0., 0., 0.,\n",
              "       0., 0., 1., 0., 0., 0., 0., 0., 0., 0., 0., 1., 0., 0., 0., 0., 0.,\n",
              "       0., 0., 0., 1., 0., 0., 0., 0., 0., 0., 0., 0., 1.])"
            ]
          },
          "metadata": {
            "tags": []
          },
          "execution_count": 33
        }
      ]
    },
    {
      "cell_type": "code",
      "metadata": {
        "trusted": true,
        "id": "-dRvvNcV9ErS",
        "outputId": "6f8a75f9-b8f5-43e7-842a-d213415a7fa0"
      },
      "source": [
        "af.pi"
      ],
      "execution_count": null,
      "outputs": [
        {
          "output_type": "execute_result",
          "data": {
            "text/plain": [
              "3.141592653589793"
            ]
          },
          "metadata": {
            "tags": []
          },
          "execution_count": 34
        }
      ]
    },
    {
      "cell_type": "code",
      "metadata": {
        "trusted": true,
        "id": "zgUu9V3p9ErT",
        "outputId": "7f136a8e-4a9a-4442-f160-1c5cc959bb25"
      },
      "source": [
        "af.sin(acd)"
      ],
      "execution_count": null,
      "outputs": [
        {
          "output_type": "execute_result",
          "data": {
            "text/plain": [
              "-0.7568024953079282"
            ]
          },
          "metadata": {
            "tags": []
          },
          "execution_count": 35
        }
      ]
    },
    {
      "cell_type": "code",
      "metadata": {
        "trusted": true,
        "id": "a9v9qIKg9ErT",
        "outputId": "6750f14b-84e6-432b-ca92-8e25064a7343"
      },
      "source": [
        "af.cos(abc)"
      ],
      "execution_count": null,
      "outputs": [
        {
          "output_type": "execute_result",
          "data": {
            "text/plain": [
              "array([[0.54030231, 1.        , 1.        , 1.        , 1.        ,\n",
              "        1.        , 1.        , 1.        ],\n",
              "       [1.        , 0.54030231, 1.        , 1.        , 1.        ,\n",
              "        1.        , 1.        , 1.        ],\n",
              "       [1.        , 1.        , 0.54030231, 1.        , 1.        ,\n",
              "        1.        , 1.        , 1.        ],\n",
              "       [1.        , 1.        , 1.        , 0.54030231, 1.        ,\n",
              "        1.        , 1.        , 1.        ],\n",
              "       [1.        , 1.        , 1.        , 1.        , 0.54030231,\n",
              "        1.        , 1.        , 1.        ],\n",
              "       [1.        , 1.        , 1.        , 1.        , 1.        ,\n",
              "        0.54030231, 1.        , 1.        ],\n",
              "       [1.        , 1.        , 1.        , 1.        , 1.        ,\n",
              "        1.        , 0.54030231, 1.        ],\n",
              "       [1.        , 1.        , 1.        , 1.        , 1.        ,\n",
              "        1.        , 1.        , 0.54030231]])"
            ]
          },
          "metadata": {
            "tags": []
          },
          "execution_count": 36
        }
      ]
    },
    {
      "cell_type": "code",
      "metadata": {
        "trusted": true,
        "id": "ELoQBhJU9ErU",
        "outputId": "44f2f332-1601-4f8a-ab77-6269ba51cf2b"
      },
      "source": [
        "af.cos(acd)"
      ],
      "execution_count": null,
      "outputs": [
        {
          "output_type": "execute_result",
          "data": {
            "text/plain": [
              "-0.6536436208636119"
            ]
          },
          "metadata": {
            "tags": []
          },
          "execution_count": 37
        }
      ]
    },
    {
      "cell_type": "code",
      "metadata": {
        "trusted": true,
        "id": "kK369Mz79ErU",
        "outputId": "65c6c83b-cc44-4ded-b89c-3d1e801d90f7"
      },
      "source": [
        "af.tan(acd)"
      ],
      "execution_count": null,
      "outputs": [
        {
          "output_type": "execute_result",
          "data": {
            "text/plain": [
              "1.1578212823495775"
            ]
          },
          "metadata": {
            "tags": []
          },
          "execution_count": 38
        }
      ]
    },
    {
      "cell_type": "code",
      "metadata": {
        "trusted": true,
        "id": "OQ2x2-hP9ErV",
        "outputId": "54b5a007-d6ee-4a5d-af94-259b3d97dfcf"
      },
      "source": [
        "af.arcsin(0.8)"
      ],
      "execution_count": null,
      "outputs": [
        {
          "output_type": "execute_result",
          "data": {
            "text/plain": [
              "0.9272952180016123"
            ]
          },
          "metadata": {
            "tags": []
          },
          "execution_count": 40
        }
      ]
    },
    {
      "cell_type": "code",
      "metadata": {
        "trusted": true,
        "id": "_YGNDCiO9ErW",
        "outputId": "5b292a35-3b2c-4253-a073-021a54e3e65c"
      },
      "source": [
        "af.log(acd)"
      ],
      "execution_count": null,
      "outputs": [
        {
          "output_type": "execute_result",
          "data": {
            "text/plain": [
              "1.3862943611198906"
            ]
          },
          "metadata": {
            "tags": []
          },
          "execution_count": 41
        }
      ]
    },
    {
      "cell_type": "code",
      "metadata": {
        "trusted": true,
        "id": "qr7RgTjw9ErW",
        "outputId": "925c8a68-9671-4f54-858b-f4ebaf9ff388"
      },
      "source": [
        "af.log2(acd)"
      ],
      "execution_count": null,
      "outputs": [
        {
          "output_type": "execute_result",
          "data": {
            "text/plain": [
              "2.0"
            ]
          },
          "metadata": {
            "tags": []
          },
          "execution_count": 42
        }
      ]
    },
    {
      "cell_type": "code",
      "metadata": {
        "trusted": true,
        "id": "F3vDjaf59ErX",
        "outputId": "72e19617-fafb-4f3d-db71-483030d7e277"
      },
      "source": [
        "af.log10(acd)"
      ],
      "execution_count": null,
      "outputs": [
        {
          "output_type": "execute_result",
          "data": {
            "text/plain": [
              "0.6020599913279624"
            ]
          },
          "metadata": {
            "tags": []
          },
          "execution_count": 43
        }
      ]
    },
    {
      "cell_type": "code",
      "metadata": {
        "trusted": true,
        "id": "Ny8rsR1j9ErX",
        "outputId": "baf25164-e82e-428c-f070-101564458643"
      },
      "source": [
        "af.add.reduce(acd)"
      ],
      "execution_count": null,
      "outputs": [
        {
          "output_type": "execute_result",
          "data": {
            "text/plain": [
              "4"
            ]
          },
          "metadata": {
            "tags": []
          },
          "execution_count": 45
        }
      ]
    },
    {
      "cell_type": "code",
      "metadata": {
        "trusted": true,
        "id": "kS872tpA9ErY",
        "outputId": "fea9112a-4fdc-464d-dc16-f329fb13e370"
      },
      "source": [
        "af.add.reduce(abc)"
      ],
      "execution_count": null,
      "outputs": [
        {
          "output_type": "execute_result",
          "data": {
            "text/plain": [
              "array([1., 1., 1., 1., 1., 1., 1., 1.])"
            ]
          },
          "metadata": {
            "tags": []
          },
          "execution_count": 46
        }
      ]
    },
    {
      "cell_type": "code",
      "metadata": {
        "trusted": true,
        "id": "hn1Lpppq9ErZ",
        "outputId": "6fc1b8ea-0302-459c-ca5c-6aea837699f7"
      },
      "source": [
        "af.multiply.reduce(acd)"
      ],
      "execution_count": null,
      "outputs": [
        {
          "output_type": "execute_result",
          "data": {
            "text/plain": [
              "4"
            ]
          },
          "metadata": {
            "tags": []
          },
          "execution_count": 47
        }
      ]
    },
    {
      "cell_type": "code",
      "metadata": {
        "trusted": true,
        "id": "W1OkmD7w9ErZ",
        "outputId": "82ce7d9b-1f5d-42e0-9b13-cdd706e3759c"
      },
      "source": [
        "af.multiply.accumulate(abc)"
      ],
      "execution_count": null,
      "outputs": [
        {
          "output_type": "execute_result",
          "data": {
            "text/plain": [
              "array([[1., 0., 0., 0., 0., 0., 0., 0.],\n",
              "       [0., 0., 0., 0., 0., 0., 0., 0.],\n",
              "       [0., 0., 0., 0., 0., 0., 0., 0.],\n",
              "       [0., 0., 0., 0., 0., 0., 0., 0.],\n",
              "       [0., 0., 0., 0., 0., 0., 0., 0.],\n",
              "       [0., 0., 0., 0., 0., 0., 0., 0.],\n",
              "       [0., 0., 0., 0., 0., 0., 0., 0.],\n",
              "       [0., 0., 0., 0., 0., 0., 0., 0.]])"
            ]
          },
          "metadata": {
            "tags": []
          },
          "execution_count": 48
        }
      ]
    },
    {
      "cell_type": "code",
      "metadata": {
        "trusted": true,
        "id": "jkbc9m4H9Era",
        "outputId": "fb060d1b-df38-49fa-eea2-d2c58da66ebb"
      },
      "source": [
        "af.hsplit(de,3)"
      ],
      "execution_count": null,
      "outputs": [
        {
          "output_type": "execute_result",
          "data": {
            "text/plain": [
              "[array([[7],\n",
              "        [2],\n",
              "        [3]]),\n",
              " array([[6],\n",
              "        [2],\n",
              "        [4]]),\n",
              " array([[5],\n",
              "        [7],\n",
              "        [9]])]"
            ]
          },
          "metadata": {
            "tags": []
          },
          "execution_count": 68
        }
      ]
    },
    {
      "cell_type": "code",
      "metadata": {
        "trusted": true,
        "id": "nqd37dwb9Era",
        "outputId": "0c9f3a81-a5c5-4f1c-c4cf-b541094663b4"
      },
      "source": [
        "de=af.random.randint(0,10,(3,3))\n",
        "de"
      ],
      "execution_count": null,
      "outputs": [
        {
          "output_type": "execute_result",
          "data": {
            "text/plain": [
              "array([[7, 6, 5],\n",
              "       [2, 2, 7],\n",
              "       [3, 4, 9]])"
            ]
          },
          "metadata": {
            "tags": []
          },
          "execution_count": 54
        }
      ]
    },
    {
      "cell_type": "code",
      "metadata": {
        "trusted": true,
        "id": "1W47jP5w9Erb",
        "outputId": "e7533f4d-c760-4519-ffcd-5ccf569c23f1"
      },
      "source": [
        "af.power(4,6)"
      ],
      "execution_count": null,
      "outputs": [
        {
          "output_type": "execute_result",
          "data": {
            "text/plain": [
              "4096"
            ]
          },
          "metadata": {
            "tags": []
          },
          "execution_count": 55
        }
      ]
    },
    {
      "cell_type": "code",
      "metadata": {
        "trusted": true,
        "id": "8U0Y06K99Erb",
        "outputId": "06c40f0b-dc09-480c-91a1-7aa636c5164e"
      },
      "source": [
        "af.power(2,8)"
      ],
      "execution_count": null,
      "outputs": [
        {
          "output_type": "execute_result",
          "data": {
            "text/plain": [
              "256"
            ]
          },
          "metadata": {
            "tags": []
          },
          "execution_count": 56
        }
      ]
    },
    {
      "cell_type": "code",
      "metadata": {
        "trusted": true,
        "id": "cX495fuo9Erc",
        "outputId": "de4ad235-1144-4c2f-f97b-805ec3886339"
      },
      "source": [
        "# horizontal splitting\n",
        "af.hsplit(de,3)"
      ],
      "execution_count": null,
      "outputs": [
        {
          "output_type": "execute_result",
          "data": {
            "text/plain": [
              "[array([[7],\n",
              "        [2],\n",
              "        [3]]),\n",
              " array([[6],\n",
              "        [2],\n",
              "        [4]]),\n",
              " array([[5],\n",
              "        [7],\n",
              "        [9]])]"
            ]
          },
          "metadata": {
            "tags": []
          },
          "execution_count": 57
        }
      ]
    },
    {
      "cell_type": "code",
      "metadata": {
        "trusted": true,
        "id": "zhNiSxSQ9Erd",
        "outputId": "f632644c-3b90-4154-dab0-ad055686d307"
      },
      "source": [
        "# Vertical splitting\n",
        "af.vsplit(de,3)"
      ],
      "execution_count": null,
      "outputs": [
        {
          "output_type": "execute_result",
          "data": {
            "text/plain": [
              "[array([[7, 6, 5]]), array([[2, 2, 7]]), array([[3, 4, 9]])]"
            ]
          },
          "metadata": {
            "tags": []
          },
          "execution_count": 63
        }
      ]
    },
    {
      "cell_type": "code",
      "metadata": {
        "trusted": true,
        "id": "G0Z2iaIa9Erd",
        "outputId": "00e03c6d-ea58-4952-c31a-bf122d622aa2"
      },
      "source": [
        "af.prod(de)"
      ],
      "execution_count": null,
      "outputs": [
        {
          "output_type": "execute_result",
          "data": {
            "text/plain": [
              "635040"
            ]
          },
          "metadata": {
            "tags": []
          },
          "execution_count": 64
        }
      ]
    },
    {
      "cell_type": "code",
      "metadata": {
        "trusted": true,
        "id": "vsbB5-EC9Ere",
        "outputId": "689c6f10-a40e-478c-ed7b-acffc03dc0c6"
      },
      "source": [
        "af.std(de)"
      ],
      "execution_count": null,
      "outputs": [
        {
          "output_type": "execute_result",
          "data": {
            "text/plain": [
              "2.309401076758503"
            ]
          },
          "metadata": {
            "tags": []
          },
          "execution_count": 65
        }
      ]
    },
    {
      "cell_type": "code",
      "metadata": {
        "trusted": true,
        "scrolled": true,
        "id": "Y7sku8lf9Ere",
        "outputId": "80c5127d-8a8d-4d04-cfbc-6642274b23e1"
      },
      "source": [
        "af.var(de)"
      ],
      "execution_count": null,
      "outputs": [
        {
          "output_type": "execute_result",
          "data": {
            "text/plain": [
              "5.333333333333333"
            ]
          },
          "metadata": {
            "tags": []
          },
          "execution_count": 66
        }
      ]
    },
    {
      "cell_type": "code",
      "metadata": {
        "trusted": true,
        "id": "YpibnUfw9Erf",
        "outputId": "f7cf30c0-74da-4616-b155-eddbd511c477"
      },
      "source": [
        "ab= af.array([1,2,3,2,3,4,3,4,5,6])\n",
        "ba = af.array([7,2,10,2,7,4,9,4,9,8])\n",
        "af.unique((ab,ba))"
      ],
      "execution_count": null,
      "outputs": [
        {
          "output_type": "execute_result",
          "data": {
            "text/plain": [
              "array([ 1,  2,  3,  4,  5,  6,  7,  8,  9, 10])"
            ]
          },
          "metadata": {
            "tags": []
          },
          "execution_count": 70
        }
      ]
    },
    {
      "cell_type": "code",
      "metadata": {
        "trusted": true,
        "id": "_7wUfD6C9Erg",
        "outputId": "d3fcc00b-c46a-4138-f4e4-1bb25747adb3"
      },
      "source": [
        "names = af.array(['Bob', 'Joe', 'Will', 'Bob', 'Will', 'Joe', 'Joe']) \n",
        "data = af.random.randn(7, 4)\n",
        "data[names==\"Bob\"]"
      ],
      "execution_count": null,
      "outputs": [
        {
          "output_type": "execute_result",
          "data": {
            "text/plain": [
              "array([[ 1.24440279, -1.34066938, -0.31962772,  0.53765665],\n",
              "       [ 0.69269568, -1.01319227,  0.61175013,  0.80120306]])"
            ]
          },
          "metadata": {
            "tags": []
          },
          "execution_count": 71
        }
      ]
    },
    {
      "cell_type": "code",
      "metadata": {
        "trusted": true,
        "id": "vIcbd7Zf9Erg",
        "outputId": "ef701a59-46f9-4dd8-8362-908a4e54cc0c"
      },
      "source": [
        "gh=af.arange(1,16).reshape(5,3)\n",
        "gh"
      ],
      "execution_count": null,
      "outputs": [
        {
          "output_type": "execute_result",
          "data": {
            "text/plain": [
              "array([[ 1,  2,  3],\n",
              "       [ 4,  5,  6],\n",
              "       [ 7,  8,  9],\n",
              "       [10, 11, 12],\n",
              "       [13, 14, 15]])"
            ]
          },
          "metadata": {
            "tags": []
          },
          "execution_count": 72
        }
      ]
    },
    {
      "cell_type": "code",
      "metadata": {
        "trusted": true,
        "id": "ApBDm0Jd9Erh",
        "outputId": "29eb9dca-85a3-48be-8cf2-6f27e4c8a928"
      },
      "source": [
        "xd = af.array([[1., 2., 3.], [4., 5., 6.]])\n",
        "yd = af.array([[6., 23.], [-1, 7], [8, 9]])\n",
        "af.dot(xd,yd)"
      ],
      "execution_count": null,
      "outputs": [
        {
          "output_type": "execute_result",
          "data": {
            "text/plain": [
              "array([[ 28.,  64.],\n",
              "       [ 67., 181.]])"
            ]
          },
          "metadata": {
            "tags": []
          },
          "execution_count": 73
        }
      ]
    },
    {
      "cell_type": "code",
      "metadata": {
        "trusted": true,
        "id": "-U0vj0Dt9Eri",
        "outputId": "fe2066e0-a9b0-40f4-98b4-18e14d16ee8d"
      },
      "source": [
        "ad=af.random.gamma((5,6))\n",
        "print(ad)\n",
        "print('\\n',ad.mean())"
      ],
      "execution_count": null,
      "outputs": [
        {
          "output_type": "stream",
          "text": [
            "[4.75170116 3.4171311 ]\n",
            "\n",
            " 4.08441613065613\n"
          ],
          "name": "stdout"
        }
      ]
    },
    {
      "cell_type": "code",
      "metadata": {
        "trusted": true,
        "id": "xFwkm3oh9Eri",
        "outputId": "a41ed6b7-8b32-457f-85ed-d8c17c72cce5"
      },
      "source": [
        "af.median(ad)"
      ],
      "execution_count": null,
      "outputs": [
        {
          "output_type": "execute_result",
          "data": {
            "text/plain": [
              "4.08441613065613"
            ]
          },
          "metadata": {
            "tags": []
          },
          "execution_count": 75
        }
      ]
    },
    {
      "cell_type": "code",
      "metadata": {
        "trusted": true,
        "id": "SoDcfU_S9Erj",
        "outputId": "048bfb83-3bc4-4485-a921-36a91816695c"
      },
      "source": [
        "af.transpose(ad)"
      ],
      "execution_count": null,
      "outputs": [
        {
          "output_type": "execute_result",
          "data": {
            "text/plain": [
              "array([4.75170116, 3.4171311 ])"
            ]
          },
          "metadata": {
            "tags": []
          },
          "execution_count": 77
        }
      ]
    },
    {
      "cell_type": "code",
      "metadata": {
        "trusted": true,
        "id": "YQGzK92c9Erk",
        "outputId": "d648544f-cc9f-4033-a32c-c5a489b842d0"
      },
      "source": [
        "print(af.linalg.det(abc))\n",
        "print(af.linalg.det([[3,4],[5,6]]))"
      ],
      "execution_count": null,
      "outputs": [
        {
          "output_type": "stream",
          "text": [
            "1.0\n",
            "-1.9999999999999971\n"
          ],
          "name": "stdout"
        }
      ]
    },
    {
      "cell_type": "code",
      "metadata": {
        "trusted": true,
        "id": "eFpK10DI9Erm",
        "outputId": "30e19dff-46a5-4fa4-a32c-b73b83a8a974"
      },
      "source": [
        "abc"
      ],
      "execution_count": null,
      "outputs": [
        {
          "output_type": "execute_result",
          "data": {
            "text/plain": [
              "array([[1., 0., 0., 0., 0., 0., 0., 0.],\n",
              "       [0., 1., 0., 0., 0., 0., 0., 0.],\n",
              "       [0., 0., 1., 0., 0., 0., 0., 0.],\n",
              "       [0., 0., 0., 1., 0., 0., 0., 0.],\n",
              "       [0., 0., 0., 0., 1., 0., 0., 0.],\n",
              "       [0., 0., 0., 0., 0., 1., 0., 0.],\n",
              "       [0., 0., 0., 0., 0., 0., 1., 0.],\n",
              "       [0., 0., 0., 0., 0., 0., 0., 1.]])"
            ]
          },
          "metadata": {
            "tags": []
          },
          "execution_count": 81
        }
      ]
    },
    {
      "cell_type": "code",
      "metadata": {
        "trusted": true,
        "id": "TMQtVPFn9Erm",
        "outputId": "a1b60376-d44a-4788-855b-315a934afc8a"
      },
      "source": [
        "af.percentile(acd,8)"
      ],
      "execution_count": null,
      "outputs": [
        {
          "output_type": "execute_result",
          "data": {
            "text/plain": [
              "4.0"
            ]
          },
          "metadata": {
            "tags": []
          },
          "execution_count": 84
        }
      ]
    },
    {
      "cell_type": "code",
      "metadata": {
        "trusted": true,
        "id": "nXeQW19F9Ern"
      },
      "source": [
        ""
      ],
      "execution_count": null,
      "outputs": []
    }
  ]
}